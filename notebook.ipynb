{
 "cells": [
  {
   "cell_type": "code",
   "execution_count": 52,
   "metadata": {},
   "outputs": [
    {
     "name": "stdout",
     "output_type": "stream",
     "text": [
      "[[0 1 1 ... 0 0 0]\n",
      " [1 0 1 ... 0 0 0]\n",
      " [1 1 0 ... 0 0 0]\n",
      " ...\n",
      " [0 0 0 ... 0 0 0]\n",
      " [0 0 0 ... 0 0 0]\n",
      " [0 0 0 ... 0 0 0]]\n"
     ]
    }
   ],
   "source": [
    "import pandas as pd  # importa o pandas \n",
    "import networkx as nx\n",
    "import matplotlib.pyplot as plt\n",
    "\n",
    "# carregar os nós\n",
    "with open(\"as_graph.txt\") as f:\n",
    "     pares = f.read().splitlines()\n",
    "\n",
    "# pega os nós em duas listas separadas\n",
    "node_1 = []\n",
    "node_2 = []\n",
    "\n",
    "# separando os nós em listas separadas\n",
    "for i, cont in zip(pares, range(len(pares))):\n",
    "\n",
    "     if cont == 0:\n",
    "         qnt = i\n",
    "         continue  # ignora a primeira linha\n",
    "\n",
    "     node_1.append(i.split(' ')[0])\n",
    "     if ' ' in i:\n",
    "        node_2.append(i.split(' ')[1])\n",
    "\n",
    "# cria um dataframe PANDAS para armazenar os dados\n",
    "df = pd.DataFrame({'node_1': node_1, 'node_2': node_2})\n",
    "\n",
    "G = nx.from_pandas_edgelist(\n",
    "    df, \n",
    "    \"node_1\", \n",
    "    \"node_2\", \n",
    "    create_using=nx.Graph()\n",
    ")\n",
    "\n",
    "with open('newFile.txt', 'w') as f:\n",
    "    f.write(\"# n = {0}\\n\".format(G.number_of_nodes()))\n",
    "    f.write(\"# m = {0}\\n\".format(G.number_of_edges()))\n",
    "    for i, count in G.degree():\n",
    "\n",
    "        f.write(\"{0} {1}\\n\".format(i, count))\n",
    "\n",
    "\n",
    "#Criar matriz de adjacência\n",
    "A = nx.to_scipy_sparse_array(G)\n",
    "print(A.todense())\n",
    "\n",
    "#Criar lista de adjacência\n",
    "nx.write_adjlist(G, \"test.adjlist\")\n",
    "\n",
    "# plota o grafo\n",
    "#nx.draw(G, with_labels=True,  node_size = 1000)\n",
    "#plt.show()"
   ]
  }
 ],
 "metadata": {
  "kernelspec": {
   "display_name": "Python 3.8.10 64-bit",
   "language": "python",
   "name": "python3"
  },
  "language_info": {
   "codemirror_mode": {
    "name": "ipython",
    "version": 3
   },
   "file_extension": ".py",
   "mimetype": "text/x-python",
   "name": "python",
   "nbconvert_exporter": "python",
   "pygments_lexer": "ipython3",
   "version": "3.8.10"
  },
  "orig_nbformat": 4,
  "vscode": {
   "interpreter": {
    "hash": "916dbcbb3f70747c44a77c7bcd40155683ae19c65e1c03b4aa3499c5328201f1"
   }
  }
 },
 "nbformat": 4,
 "nbformat_minor": 2
}
