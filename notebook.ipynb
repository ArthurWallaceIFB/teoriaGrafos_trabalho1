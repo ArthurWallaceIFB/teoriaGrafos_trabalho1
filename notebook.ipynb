{
 "cells": [
  {
   "cell_type": "code",
   "execution_count": 19,
   "metadata": {},
   "outputs": [],
   "source": [
    "import pandas as pd  # importa o pandas\n",
    "import networkx as nx\n",
    "import matplotlib.pyplot as plt\n",
    "import numpy as np\n",
    "import functions\n",
    "# np.set_printoptions(threshold=np.inf)\n",
    "\n",
    "# carregar os nós\n",
    "with open(\"example.txt\") as f:\n",
    "    pares = f.read().splitlines()\n",
    "\n",
    "# pega os nós em duas listas separadas\n",
    "node_1 = []\n",
    "node_2 = []\n",
    "\n",
    "# separando os nós em listas separadas\n",
    "for i, cont in zip(pares, range(len(pares))):\n",
    "\n",
    "    if cont == 0:\n",
    "        qnt = i\n",
    "        continue  # ignora a primeira linha\n",
    "\n",
    "    node_1.append(i.split(' ')[0])\n",
    "    node_2.append(i.split(' ')[1])\n",
    "\n",
    "# cria um dataframe PANDAS para armazenar os dados\n",
    "df = pd.DataFrame({'node_1': node_1, 'node_2': node_2})\n",
    "\n",
    "G = nx.from_pandas_edgelist(\n",
    "    df,\n",
    "    \"node_1\",\n",
    "    \"node_2\",\n",
    "    create_using=nx.Graph()\n",
    ")\n",
    "\n",
    "#Salvar arquivo de saída\n",
    "with open('results/saida.txt', 'w') as f:\n",
    "    f.write(\"# n = {0}\\n\".format(G.number_of_nodes()))\n",
    "    f.write(\"# m = {0}\\n\".format(G.number_of_edges()))\n",
    "    for i, count in G.degree():\n",
    "\n",
    "        f.write(\"{0} {1}\\n\".format(i, count))\n",
    "\n",
    "\n",
    "# Criar matriz de adjacência\n",
    "A = nx.to_scipy_sparse_array(G)\n",
    "np.savetxt(\"results/matriz.txt\", A.todense())\n",
    "\n",
    "# Criar lista de adjacência\n",
    "nx.write_adjlist(G, \"results/lista.txt\")\n"
   ]
  }
 ],
 "metadata": {
  "kernelspec": {
   "display_name": "Python 3.8.10 64-bit",
   "language": "python",
   "name": "python3"
  },
  "language_info": {
   "codemirror_mode": {
    "name": "ipython",
    "version": 3
   },
   "file_extension": ".py",
   "mimetype": "text/x-python",
   "name": "python",
   "nbconvert_exporter": "python",
   "pygments_lexer": "ipython3",
   "version": "3.8.10 (default, Nov 14 2022, 12:59:47) \n[GCC 9.4.0]"
  },
  "orig_nbformat": 4,
  "vscode": {
   "interpreter": {
    "hash": "916dbcbb3f70747c44a77c7bcd40155683ae19c65e1c03b4aa3499c5328201f1"
   }
  }
 },
 "nbformat": 4,
 "nbformat_minor": 2
}
